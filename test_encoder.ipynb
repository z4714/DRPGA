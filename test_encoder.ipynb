{
 "cells": [
  {
   "cell_type": "code",
   "execution_count": null,
   "metadata": {},
   "outputs": [],
   "source": [
    "from models.transformers import torch_Transformer\n",
    "from src.utils import model_utils\n",
    "\n",
    "import torch\n",
    "\n",
    "\n",
    "\n",
    "vocab_size = 10000\n",
    "d_model = 512  \n",
    "n_head = 8\n",
    "en_layers = 6\n",
    "d_ff = 2048\n",
    "max_seq_length = 600\n",
    "\n",
    "\n",
    "device = torch.device(\"cuda\" if torch.cuda.is_available() else \"cpu\")\n",
    "print(device)\n",
    "\n",
    "\n",
    "tr_tf_en = torch_Transformer.TRTF_encoder(vocab_size, d_model, \n",
    "    n_head, en_layers, d_ff, max_seq_length)\n",
    "\n",
    "tr_tf_en = tr_tf_en.to(device)\n",
    "tr_tf_en = tr_tf_en.bfloat16()\n",
    "\n",
    "\n",
    "\n",
    "print(sum(p.numel() for p in tr_tf_en.parameters())/1e9, 'M parameters in tr_tf_en')\n",
    "\n",
    "\n",
    "\n",
    "\n",
    "src = torch.randint(0, vocab_size, (10, 32))\n",
    "src_mask = model_utils.square_subsequent_mask(10)\n",
    "\n",
    "\n",
    "src = src.to(device)\n",
    "\n",
    "src_mask = src_mask.to(device)\n",
    "src_mask = src_mask.bfloat16()\n",
    "\n",
    "\n",
    "output = tr_tf_en.forward(src,src_mask)\n",
    "print(\"TRTF_en output shape\",output.shape)\n",
    "\n"
   ]
  },
  {
   "cell_type": "code",
   "execution_count": null,
   "metadata": {},
   "outputs": [],
   "source": []
  }
 ],
 "metadata": {
  "language_info": {
   "name": "python"
  },
  "orig_nbformat": 4
 },
 "nbformat": 4,
 "nbformat_minor": 2
}
