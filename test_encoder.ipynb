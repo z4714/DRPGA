{
 "cells": [
  {
   "cell_type": "code",
   "execution_count": 1,
   "metadata": {},
   "outputs": [
    {
     "name": "stderr",
     "output_type": "stream",
     "text": [
      "d:\\Disk_D\\programming_software\\AI\\Anaconda3\\envs\\pettingZoo_Langchain\\lib\\site-packages\\tqdm\\auto.py:21: TqdmWarning: IProgress not found. Please update jupyter and ipywidgets. See https://ipywidgets.readthedocs.io/en/stable/user_install.html\n",
      "  from .autonotebook import tqdm as notebook_tqdm\n"
     ]
    },
    {
     "name": "stdout",
     "output_type": "stream",
     "text": [
      "cuda\n",
      "0.024341504 M parameters in tr_tf_en\n",
      "TRTF_en output shape torch.Size([10, 32, 512])\n"
     ]
    }
   ],
   "source": [
    "from models.transformers import torch_Transformer\n",
    "from src.utils import model_utils\n",
    "\n",
    "import torch\n",
    "\n",
    "\n",
    "\n",
    "vocab_size = 10000\n",
    "d_model = 512  \n",
    "n_head = 8\n",
    "en_layers = 6\n",
    "d_ff = 2048\n",
    "max_seq_length = 600\n",
    "\n",
    "\n",
    "device = torch.device(\"cuda\" if torch.cuda.is_available() else \"cpu\")\n",
    "print(device)\n",
    "\n",
    "\n",
    "tr_tf_en = torch_Transformer.TRTF_encoder(vocab_size, d_model, \n",
    "    n_head, en_layers, d_ff, max_seq_length)\n",
    "\n",
    "tr_tf_en = tr_tf_en.to(device)\n",
    "tr_tf_en = tr_tf_en.bfloat16()\n",
    "\n",
    "\n",
    "\n",
    "print(sum(p.numel() for p in tr_tf_en.parameters())/1e9, 'B parameters in tr_tf_en')\n",
    "\n",
    "\n",
    "\n",
    "\n",
    "src = torch.randint(0, vocab_size, (10, 32))\n",
    "src_mask = model_utils.square_subsequent_mask(10)\n",
    "\n",
    "\n",
    "src = src.to(device)\n",
    "\n",
    "src_mask = src_mask.to(device)\n",
    "src_mask = src_mask.bfloat16()\n",
    "\n",
    "\n",
    "output = tr_tf_en.forward(src,src_mask)\n",
    "print(\"TRTF_en output shape\",output.shape)\n",
    "\n"
   ]
  },
  {
   "cell_type": "code",
   "execution_count": 2,
   "metadata": {},
   "outputs": [],
   "source": [
    "import json\n",
    "from transformers import BertTokenizer\n",
    "from src.utils import data_utils\n",
    "\n",
    "with open('./data/RL_env/Pettingzoo_mpe/simple_adversary.json','r') as file:\n",
    "    data = json.load(file)\n",
    "\n",
    "data = data_utils.json2Tpath(data)\n",
    "\n",
    "\n",
    "tokenizer = BertTokenizer.from_pretrained('bert-base-uncased')\n",
    "tokenized_data = tokenizer(data, padding=True, truncation= True, max_length=4096, return_tensors=\"pt\")\n",
    "\n",
    "\n"
   ]
  },
  {
   "cell_type": "code",
   "execution_count": 3,
   "metadata": {},
   "outputs": [
    {
     "name": "stdout",
     "output_type": "stream",
     "text": [
      "cuda\n"
     ]
    },
    {
     "ename": "TypeError",
     "evalue": "super(type, obj): obj must be an instance or subtype of type",
     "output_type": "error",
     "traceback": [
      "\u001b[1;31m---------------------------------------------------------------------------\u001b[0m",
      "\u001b[1;31mTypeError\u001b[0m                                 Traceback (most recent call last)",
      "Cell \u001b[1;32mIn[3], line 20\u001b[0m\n\u001b[0;32m     16\u001b[0m device \u001b[38;5;241m=\u001b[39m torch\u001b[38;5;241m.\u001b[39mdevice(\u001b[38;5;124m\"\u001b[39m\u001b[38;5;124mcuda\u001b[39m\u001b[38;5;124m\"\u001b[39m \u001b[38;5;28;01mif\u001b[39;00m torch\u001b[38;5;241m.\u001b[39mcuda\u001b[38;5;241m.\u001b[39mis_available() \u001b[38;5;28;01melse\u001b[39;00m \u001b[38;5;124m\"\u001b[39m\u001b[38;5;124mcpu\u001b[39m\u001b[38;5;124m\"\u001b[39m)\n\u001b[0;32m     17\u001b[0m \u001b[38;5;28mprint\u001b[39m(device)\n\u001b[1;32m---> 20\u001b[0m ptf_trtf_en \u001b[38;5;241m=\u001b[39m \u001b[43mtorch_Transformer\u001b[49m\u001b[38;5;241;43m.\u001b[39;49m\u001b[43mpaddingT_FTRTF_encoder\u001b[49m\u001b[43m(\u001b[49m\u001b[43mvocab_size\u001b[49m\u001b[43m,\u001b[49m\u001b[43m \u001b[49m\u001b[43md_model\u001b[49m\u001b[43m,\u001b[49m\u001b[43m \u001b[49m\n\u001b[0;32m     21\u001b[0m \u001b[43m    \u001b[49m\u001b[43mn_head\u001b[49m\u001b[43m,\u001b[49m\u001b[43m \u001b[49m\u001b[43men_layers\u001b[49m\u001b[43m,\u001b[49m\u001b[43m \u001b[49m\u001b[43md_ff\u001b[49m\u001b[43m,\u001b[49m\u001b[43m \u001b[49m\u001b[43mout_dim\u001b[49m\u001b[43m,\u001b[49m\u001b[43m \u001b[49m\u001b[43mmax_seq_length\u001b[49m\u001b[43m)\u001b[49m\n\u001b[0;32m     23\u001b[0m ptf_trtf_en \u001b[38;5;241m=\u001b[39m ptf_trtf_en\u001b[38;5;241m.\u001b[39mto(device)\n\u001b[0;32m     24\u001b[0m ptf_trtf_en \u001b[38;5;241m=\u001b[39m ptf_trtf_en\u001b[38;5;241m.\u001b[39mbfloat16()\n",
      "File \u001b[1;32md:\\Disk_D\\CODE\\Python\\Graduation_Thesis\\DRPGA\\models\\transformers\\torch_Transformer.py:56\u001b[0m, in \u001b[0;36mpaddingT_FTRTF_encoder.__init__\u001b[1;34m(self, vocab_size, d_model, nhead, num_layers, d_ff, out_dim, max_seq_length, dropout)\u001b[0m\n\u001b[0;32m     54\u001b[0m \u001b[39mdef\u001b[39;00m \u001b[39m__init__\u001b[39m(\u001b[39mself\u001b[39m, vocab_size, d_model, nhead, num_layers, \n\u001b[0;32m     55\u001b[0m d_ff, out_dim, max_seq_length\u001b[39m=\u001b[39m\u001b[39m4096\u001b[39m, dropout\u001b[39m=\u001b[39m\u001b[39m0.1\u001b[39m):\n\u001b[1;32m---> 56\u001b[0m     \u001b[39msuper\u001b[39;49m(Fixpooling_TRTF, \u001b[39mself\u001b[39;49m)\u001b[39m.\u001b[39m\u001b[39m__init__\u001b[39m()\n\u001b[0;32m     57\u001b[0m     \u001b[39mself\u001b[39m\u001b[39m.\u001b[39membedding \u001b[39m=\u001b[39m nn\u001b[39m.\u001b[39mEmbedding(vocab_size, d_model)\n\u001b[0;32m     58\u001b[0m     \u001b[39mself\u001b[39m\u001b[39m.\u001b[39mpos_encoder \u001b[39m=\u001b[39m nn\u001b[39m.\u001b[39mParameter(torch\u001b[39m.\u001b[39mzeros(\u001b[39m1\u001b[39m,max_seq_length, d_model))\n",
      "\u001b[1;31mTypeError\u001b[0m: super(type, obj): obj must be an instance or subtype of type"
     ]
    }
   ],
   "source": [
    "from models.transformers import torch_Transformer\n",
    "from src.utils import model_utils\n",
    "\n",
    "import torch\n",
    "\n",
    "\n",
    "\n",
    "vocab_size = 10000\n",
    "d_model = 512  \n",
    "n_head = 8\n",
    "en_layers = 6\n",
    "d_ff = 2048\n",
    "max_seq_length = 4096\n",
    "out_dim = 64\n",
    "\n",
    "device = torch.device(\"cuda\" if torch.cuda.is_available() else \"cpu\")\n",
    "print(device)\n",
    "\n",
    "\n",
    "ptf_trtf_en = torch_Transformer.paddingT_FTRTF_encoder(vocab_size, d_model, \n",
    "    n_head, en_layers, d_ff, out_dim, max_seq_length)\n",
    "\n",
    "ptf_trtf_en = ptf_trtf_en.to(device)\n",
    "ptf_trtf_en = ptf_trtf_en.bfloat16()\n",
    "\n",
    "\n",
    "\n",
    "print(sum(p.numel() for p in ptf_trtf_en.parameters())/1e9, 'B parameters in tr_tf_en')\n",
    "\n",
    "\n",
    "\n",
    "\n",
    "with torch.no_grad():\n",
    "    input_ids = tokenized_data['input_ids'].to(device)\n",
    "    attention_mask = tokenized_data['attention_mask'].to(device)\n",
    "    outputs = ptf_trtf_en(input_ids, attention_mask)\n",
    "\n",
    "print(outputs.shape)\n"
   ]
  },
  {
   "cell_type": "code",
   "execution_count": null,
   "metadata": {},
   "outputs": [],
   "source": []
  }
 ],
 "metadata": {
  "kernelspec": {
   "display_name": "Python 3.9.18 ('pettingZoo_Langchain')",
   "language": "python",
   "name": "python3"
  },
  "language_info": {
   "codemirror_mode": {
    "name": "ipython",
    "version": 3
   },
   "file_extension": ".py",
   "mimetype": "text/x-python",
   "name": "python",
   "nbconvert_exporter": "python",
   "pygments_lexer": "ipython3",
   "version": "3.9.18"
  },
  "orig_nbformat": 4,
  "vscode": {
   "interpreter": {
    "hash": "afdf63005a8e15303df45d0cecdfecb72eda57fa0cd442cd104881763b83185d"
   }
  }
 },
 "nbformat": 4,
 "nbformat_minor": 2
}
