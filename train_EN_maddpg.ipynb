{
 "cells": [
  {
   "cell_type": "code",
   "execution_count": 2,
   "metadata": {},
   "outputs": [
    {
     "name": "stdout",
     "output_type": "stream",
     "text": [
      "cuda\n"
     ]
    }
   ],
   "source": [
    "import os\n",
    "import torch\n",
    "torch.cuda.empty_cache()\n",
    "device = torch.device(\"cuda\" if torch.cuda.is_available() else \"cpu\")\n",
    "print(device)\n",
    "os.environ['CUDA_LAUNCH_BLOCKING'] = \"1\""
   ]
  },
  {
   "cell_type": "code",
   "execution_count": 15,
   "metadata": {},
   "outputs": [],
   "source": [
    "\n",
    "import torch.nn.functional as F\n",
    "import numpy as np\n",
    "import matplotlib.pyplot as plt\n",
    "import random\n",
    "from tqdm import tqdm\n",
    "import collections\n",
    "from datetime import datetime\n",
    "\n",
    "\n",
    "from pettingzoo.mpe import simple_adversary_v3\n",
    "from src.utils import rl_tools\n",
    "from models.maddpg.e2t_maddpg import ENMADDPG\n",
    "from models.utils import persistence\n",
    "from src.utils.data_utils import find_latest_file"
   ]
  },
  {
   "cell_type": "code",
   "execution_count": 4,
   "metadata": {},
   "outputs": [
    {
     "name": "stdout",
     "output_type": "stream",
     "text": [
      "cuda\n"
     ]
    }
   ],
   "source": [
    "max_cycles = 200\n",
    "seed = -1\n",
    "\n",
    "num_episodes = 100\n",
    "episode_length = 64 \n",
    "buffer_size = 100000\n",
    "hidden_dim = 64\n",
    "actor_lr = 1e-2\n",
    "critic_lr = 1e-2\n",
    "gamma = 0.95\n",
    "tau = 1e-2\n",
    "batch_size = 16\n",
    "device = torch.device(\"cuda\" if torch.cuda.is_available() else \"cpu\")\n",
    "print(device)\n",
    "update_interval = 32\n",
    "minimal_size = 15\n",
    "replay_buffer = rl_tools.ReplayBuffer(buffer_size)\n"
   ]
  },
  {
   "cell_type": "code",
   "execution_count": 14,
   "metadata": {},
   "outputs": [],
   "source": [
    "en_out_dim = 768\n",
    "redu_dim = 16\n",
    "max_length = 128"
   ]
  },
  {
   "cell_type": "code",
   "execution_count": 6,
   "metadata": {},
   "outputs": [],
   "source": [
    "max_agents = 6"
   ]
  },
  {
   "cell_type": "code",
   "execution_count": 7,
   "metadata": {},
   "outputs": [],
   "source": [
    "def add_en_dim(state_dim, redu_dim):\n",
    "\n",
    "    en_state_dims = []\n",
    "    for x in state_dim:\n",
    "        en_state_dims.append(x + redu_dim)\n",
    "    return en_state_dims"
   ]
  },
  {
   "cell_type": "code",
   "execution_count": 8,
   "metadata": {},
   "outputs": [
    {
     "name": "stdout",
     "output_type": "stream",
     "text": [
      "[50, 50, 50, 50, 50, 50]\n",
      "[50, 50, 50, 50, 50, 50]\n"
     ]
    }
   ],
   "source": [
    "state_dims=[34, 34, 34, 34, 34, 34] \n",
    "action_dims=[50, 50, 50, 50, 50, 50] \n",
    "\n",
    "en_state_dims = add_en_dim(state_dims, redu_dim)\n",
    "\n",
    "\n",
    "print(en_state_dims)\n",
    "print(action_dims)"
   ]
  },
  {
   "cell_type": "code",
   "execution_count": 9,
   "metadata": {},
   "outputs": [],
   "source": [
    "critic_input_dim = sum(state_dims) +sum(action_dims) + redu_dim"
   ]
  },
  {
   "cell_type": "code",
   "execution_count": 10,
   "metadata": {},
   "outputs": [
    {
     "name": "stdout",
     "output_type": "stream",
     "text": [
      "520\n"
     ]
    }
   ],
   "source": [
    "print(critic_input_dim)"
   ]
  },
  {
   "cell_type": "code",
   "execution_count": 11,
   "metadata": {},
   "outputs": [],
   "source": []
  },
  {
   "cell_type": "code",
   "execution_count": 12,
   "metadata": {},
   "outputs": [],
   "source": [
    "encoders_dir = './parameters/weights/encoders/bert_EN'\n",
    "spec_en = ''"
   ]
  },
  {
   "cell_type": "code",
   "execution_count": 13,
   "metadata": {},
   "outputs": [],
   "source": [
    "encoder = torch.load(spec_en) if spec_en else torch.load(find_latest_file(encoders_dir))"
   ]
  },
  {
   "cell_type": "code",
   "execution_count": null,
   "metadata": {},
   "outputs": [],
   "source": [
    "tokenizer = \"BertTokenizer\"\n",
    "tokenizer_fn = \"tokenizer_fn\""
   ]
  },
  {
   "cell_type": "code",
   "execution_count": 39,
   "metadata": {},
   "outputs": [
    {
     "name": "stdout",
     "output_type": "stream",
     "text": [
      "DDPG 34 50 1272 64 0.01 0.01 cuda\n",
      "DDPG 34 50 1272 64 0.01 0.01 cuda\n",
      "DDPG 34 50 1272 64 0.01 0.01 cuda\n",
      "DDPG 34 50 1272 64 0.01 0.01 cuda\n",
      "DDPG 34 50 1272 64 0.01 0.01 cuda\n",
      "DDPG 34 50 1272 64 0.01 0.01 cuda\n"
     ]
    }
   ],
   "source": [
    "en_maddpg = ENMADDPG(\n",
    "    tokenizer, \n",
    "    tokenizer_fn,\n",
    "    max_length,\n",
    "    encoder, \n",
    "    en_out_dim, \n",
    "    redu_dim, \n",
    "    max_agents, \n",
    "    device, \n",
    "    actor_lr, \n",
    "    critic_lr, \n",
    "    hidden_dim, \n",
    "    state_dims, \n",
    "    action_dims, \n",
    "    critic_input_dim, \n",
    "    gamma, \n",
    "    tau\n",
    "    )\n",
    "en_maddpg = en_maddpg.to(device)"
   ]
  },
  {
   "cell_type": "code",
   "execution_count": 41,
   "metadata": {},
   "outputs": [
    {
     "name": "stdout",
     "output_type": "stream",
     "text": [
      "0.001144164 B parameters in en_maddpg\n"
     ]
    }
   ],
   "source": [
    "\n",
    "print(sum(p.numel() for p in en_maddpg.parameters())/1e9,'B parameters in en_maddpg')\n",
    "\n"
   ]
  },
  {
   "cell_type": "code",
   "execution_count": null,
   "metadata": {},
   "outputs": [],
   "source": [
    "return_list = [] \n",
    "total_step = 0\n",
    "\n",
    "\n",
    "agents = ['adversary_0', 'agent_0', 'agent_1']"
   ]
  },
  {
   "cell_type": "code",
   "execution_count": null,
   "metadata": {},
   "outputs": [],
   "source": [
    "env = simple_adversary_v3.parallel_env(max_cycles=max_cycles)\n",
    "observations, infos = env.reset() if seed == -1 else env.reset(seed=seed)\n",
    "print(env.action_spaces)\n",
    "print(env.observation_spaces)"
   ]
  },
  {
   "cell_type": "code",
   "execution_count": null,
   "metadata": {},
   "outputs": [],
   "source": [
    "critic_input_dim = sum(state_dims) +sum(action_dims)\n",
    "\n",
    "sa_maddpg = MADDPG(env, device, actor_lr, critic_lr, hidden_dim, state_dims, action_dims, critic_input_dim, gamma, tau)\n",
    "sa_maddpg = sa_maddpg.to(device)\n",
    "print(sum(p.numel() for p in sa_maddpg.parameters())/1e6,'M parameters in sa_maddpg')\n",
    "\n",
    "return_list = [] \n",
    "total_step = 0\n",
    "\n",
    "\n",
    "agents = ['adversary_0', 'agent_0', 'agent_1']\n"
   ]
  },
  {
   "cell_type": "code",
   "execution_count": null,
   "metadata": {},
   "outputs": [],
   "source": []
  }
 ],
 "metadata": {
  "kernelspec": {
   "display_name": "pettingZoo_Langchain",
   "language": "python",
   "name": "python3"
  },
  "language_info": {
   "codemirror_mode": {
    "name": "ipython",
    "version": 3
   },
   "file_extension": ".py",
   "mimetype": "text/x-python",
   "name": "python",
   "nbconvert_exporter": "python",
   "pygments_lexer": "ipython3",
   "version": "3.9.18"
  }
 },
 "nbformat": 4,
 "nbformat_minor": 2
}
