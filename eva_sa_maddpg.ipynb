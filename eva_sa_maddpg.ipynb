{
 "cells": [
  {
   "cell_type": "code",
   "execution_count": 1,
   "metadata": {},
   "outputs": [
    {
     "name": "stderr",
     "output_type": "stream",
     "text": [
      "d:\\Disk_D\\programming_software\\AI\\Anaconda3\\envs\\pettingZoo_Langchain\\lib\\site-packages\\tqdm\\auto.py:21: TqdmWarning: IProgress not found. Please update jupyter and ipywidgets. See https://ipywidgets.readthedocs.io/en/stable/user_install.html\n",
      "  from .autonotebook import tqdm as notebook_tqdm\n"
     ]
    },
    {
     "ename": "ValueError",
     "evalue": "max() arg is an empty sequence",
     "output_type": "error",
     "traceback": [
      "\u001b[1;31m---------------------------------------------------------------------------\u001b[0m",
      "\u001b[1;31mValueError\u001b[0m                                Traceback (most recent call last)",
      "Cell \u001b[1;32mIn[1], line 11\u001b[0m\n\u001b[0;32m      9\u001b[0m spec_file \u001b[38;5;241m=\u001b[39m \u001b[38;5;124m'\u001b[39m\u001b[38;5;124m'\u001b[39m\n\u001b[0;32m     10\u001b[0m npz_files \u001b[38;5;241m=\u001b[39m [os\u001b[38;5;241m.\u001b[39mpath\u001b[38;5;241m.\u001b[39mjoin(results_dir, f) \u001b[38;5;28;01mfor\u001b[39;00m f \u001b[38;5;129;01min\u001b[39;00m os\u001b[38;5;241m.\u001b[39mlistdir(results_dir) \u001b[38;5;28;01mif\u001b[39;00m f\u001b[38;5;241m.\u001b[39mendswith(\u001b[38;5;124m'\u001b[39m\u001b[38;5;124m.npz\u001b[39m\u001b[38;5;124m'\u001b[39m)]\n\u001b[1;32m---> 11\u001b[0m latest_file \u001b[38;5;241m=\u001b[39m \u001b[38;5;28;43mmax\u001b[39;49m\u001b[43m(\u001b[49m\u001b[43mnpz_files\u001b[49m\u001b[43m,\u001b[49m\u001b[43m \u001b[49m\u001b[43mkey\u001b[49m\u001b[38;5;241;43m=\u001b[39;49m\u001b[43mos\u001b[49m\u001b[38;5;241;43m.\u001b[39;49m\u001b[43mpath\u001b[49m\u001b[38;5;241;43m.\u001b[39;49m\u001b[43mgetmtime\u001b[49m\u001b[43m)\u001b[49m\n\u001b[0;32m     14\u001b[0m results \u001b[38;5;241m=\u001b[39m np\u001b[38;5;241m.\u001b[39mload(latest_file) \u001b[38;5;28;01mif\u001b[39;00m spec_file \u001b[38;5;28;01melse\u001b[39;00m np\u001b[38;5;241m.\u001b[39mload(spec_file)\n\u001b[0;32m     16\u001b[0m result_array \u001b[38;5;241m=\u001b[39m results[\u001b[38;5;124m'\u001b[39m\u001b[38;5;124mreturn_array\u001b[39m\u001b[38;5;124m'\u001b[39m]\n",
      "\u001b[1;31mValueError\u001b[0m: max() arg is an empty sequence"
     ]
    }
   ],
   "source": [
    "import numpy as np\n",
    "import matplotlib.pyplot as plt\n",
    "import os\n",
    "\n",
    "\n",
    "from src.utils import rl_tools\n",
    "\n",
    "results_dir = '././evaluation/results/sa_maddpg'\n",
    "spec_file = ''\n",
    "npz_files = [os.path.join(results_dir, f) for f in os.listdir(results_dir) if f.endswith('.npz')]\n",
    "latest_file = max(npz_files, key=os.path.getmtime)\n",
    "\n",
    "\n",
    "results = np.load(latest_file) if spec_file else np.load(spec_file)\n",
    "\n",
    "result_array = results['return_array']\n",
    "\n",
    "for i, agent_name in enumerate(['adversary_0','agent_0','agent_1']):\n",
    "    plt.figure()\n",
    "    plt.plot(np.arange(result_array.shape[0])*100, rl_tools.moving_average(result_array[:,i],9))\n",
    "    plt.xlabel(\"Episodes\")\n",
    "    plt.ylabel(\"Results\")\n",
    "    plt.title(f\"{agent_name} by SA_MADDPG\")"
   ]
  },
  {
   "cell_type": "code",
   "execution_count": null,
   "metadata": {},
   "outputs": [],
   "source": [
    "from src.utils import model_utils\n",
    "\n",
    "\n",
    "params_date = ''\n",
    "maddpg_dir = f'./parameters/weights/sa_maddpg/{params_date}'\n",
    "\n",
    "actor_params = []\n",
    "critic_params = []\n",
    "\n",
    "actor_params = model_utils.load_params(actor_params, f'{maddpg_dir}/actor')\n",
    "critic_params = model_utils.load_params(critic_params, f'{maddpg_dir}/critic')\n",
    "\n"
   ]
  },
  {
   "cell_type": "code",
   "execution_count": null,
   "metadata": {},
   "outputs": [],
   "source": [
    "params = actor_params[0]\n",
    "\n",
    "params_array = []\n",
    "\n",
    "for param_name, param_value in params.items():\n",
    "    params_array.append(param_value.cpu().numpy().flatten())\n",
    "\n",
    "plt.figure(figsize=(10,6))\n",
    "plt.hist(params_array, bins=50, alpha=0.7, label=params.keys())\n",
    "plt.legend()\n",
    "plt.xlabel('Parameter Values')\n",
    "plt.ylabel('Frequency')\n",
    "plt.title('Histogram of Model Parameters')\n",
    "plt.show()"
   ]
  }
 ],
 "metadata": {
  "kernelspec": {
   "display_name": "Python 3.9.18 ('pettingZoo_Langchain')",
   "language": "python",
   "name": "python3"
  },
  "language_info": {
   "codemirror_mode": {
    "name": "ipython",
    "version": 3
   },
   "file_extension": ".py",
   "mimetype": "text/x-python",
   "name": "python",
   "nbconvert_exporter": "python",
   "pygments_lexer": "ipython3",
   "version": "3.9.18"
  },
  "orig_nbformat": 4,
  "vscode": {
   "interpreter": {
    "hash": "afdf63005a8e15303df45d0cecdfecb72eda57fa0cd442cd104881763b83185d"
   }
  }
 },
 "nbformat": 4,
 "nbformat_minor": 2
}
