{
 "cells": [
  {
   "cell_type": "markdown",
   "metadata": {},
   "source": [
    "# PettingZoo MPE"
   ]
  },
  {
   "cell_type": "code",
   "execution_count": 13,
   "metadata": {},
   "outputs": [],
   "source": [
    "def get_action_state_dims(env):\n",
    "    state_dims=[]\n",
    "    action_dims=[]\n",
    "    for action_space_key, action_space in env.action_spaces.items():\n",
    "        action_dims.append(action_space.n)\n",
    "    for state_space_key, state_space in env.observation_spaces.items(): #observation_space != observation_spaces\n",
    "        state_dims.append(state_space.shape[0])\n",
    "        \n",
    "    return action_dims, state_dims"
   ]
  },
  {
   "cell_type": "code",
   "execution_count": null,
   "metadata": {},
   "outputs": [],
   "source": []
  },
  {
   "cell_type": "markdown",
   "metadata": {},
   "source": [
    "## 1) simple_v3"
   ]
  },
  {
   "cell_type": "code",
   "execution_count": 17,
   "metadata": {},
   "outputs": [],
   "source": [
    "from pettingzoo.mpe import simple_v3\n",
    "s3 = simple_v3.env()"
   ]
  },
  {
   "cell_type": "code",
   "execution_count": 15,
   "metadata": {},
   "outputs": [
    {
     "name": "stdout",
     "output_type": "stream",
     "text": [
      "s3.action_spaces {'agent_0': Discrete(5)}\n",
      "s3.observation_spaces {'agent_0': Box(-inf, inf, (4,), float32)}\n",
      "s3 (action_dims, state_dims) ([5], [4])\n"
     ]
    }
   ],
   "source": [
    "print(\"s3.action_spaces\",s3.action_spaces)\n",
    "print(\"s3.observation_spaces\",s3.observation_spaces)\n",
    "print(\"s3 (action_dims, state_dims)\",get_action_state_dims(s3))"
   ]
  },
  {
   "cell_type": "markdown",
   "metadata": {},
   "source": [
    "## 2) simple_adversary_v3"
   ]
  },
  {
   "cell_type": "code",
   "execution_count": 18,
   "metadata": {},
   "outputs": [],
   "source": [
    "from pettingzoo.mpe import simple_adversary_v3\n",
    "sa3 = simple_adversary_v3.env()"
   ]
  },
  {
   "cell_type": "code",
   "execution_count": 20,
   "metadata": {},
   "outputs": [
    {
     "name": "stdout",
     "output_type": "stream",
     "text": [
      "sa3.action_spaces {'adversary_0': Discrete(5), 'agent_0': Discrete(5), 'agent_1': Discrete(5)}\n",
      "sa3.observation_spaces {'adversary_0': Box(-inf, inf, (8,), float32), 'agent_0': Box(-inf, inf, (10,), float32), 'agent_1': Box(-inf, inf, (10,), float32)}\n",
      "sa3 (action_dims, state_dims) ([5, 5, 5], [8, 10, 10])\n"
     ]
    }
   ],
   "source": [
    "print(\"sa3.action_spaces\",sa3.action_spaces)\n",
    "print(\"sa3.observation_spaces\",sa3.observation_spaces)\n",
    "print(\"sa3 (action_dims, state_dims)\",get_action_state_dims(sa3))"
   ]
  },
  {
   "cell_type": "markdown",
   "metadata": {},
   "source": [
    "## 3）simple_crypto_v3"
   ]
  },
  {
   "cell_type": "code",
   "execution_count": 22,
   "metadata": {},
   "outputs": [
    {
     "name": "stdout",
     "output_type": "stream",
     "text": [
      "sc3.action_spaces {'eve_0': Discrete(4), 'bob_0': Discrete(4), 'alice_0': Discrete(4)}\n",
      "sc3.observation_spaces {'eve_0': Box(-inf, inf, (4,), float32), 'bob_0': Box(-inf, inf, (8,), float32), 'alice_0': Box(-inf, inf, (8,), float32)}\n",
      "sc3 (action_dims, state_dims) ([4, 4, 4], [4, 8, 8])\n"
     ]
    }
   ],
   "source": [
    "from pettingzoo.mpe import simple_crypto_v3\n",
    "sc3 = simple_crypto_v3.env()\n",
    "print(\"sc3.action_spaces\",sc3.action_spaces)\n",
    "print(\"sc3.observation_spaces\",sc3.observation_spaces)\n",
    "print(\"sc3 (action_dims, state_dims)\",get_action_state_dims(sc3))"
   ]
  },
  {
   "cell_type": "markdown",
   "metadata": {},
   "source": [
    "## 4) simple_push_v3"
   ]
  },
  {
   "cell_type": "code",
   "execution_count": 24,
   "metadata": {},
   "outputs": [
    {
     "name": "stdout",
     "output_type": "stream",
     "text": [
      "sp3.action_spaces {'adversary_0': Discrete(5), 'agent_0': Discrete(5)}\n",
      "sp3.observation_spaces {'adversary_0': Box(-inf, inf, (8,), float32), 'agent_0': Box(-inf, inf, (19,), float32)}\n",
      "sp3 (action_dims, state_dims) ([5, 5], [8, 19])\n"
     ]
    }
   ],
   "source": [
    "from pettingzoo.mpe import simple_push_v3\n",
    "sp3 = simple_push_v3.env()\n",
    "print(\"sp3.action_spaces\",sp3.action_spaces)\n",
    "print(\"sp3.observation_spaces\",sp3.observation_spaces)\n",
    "print(\"sp3 (action_dims, state_dims)\",get_action_state_dims(sp3))"
   ]
  },
  {
   "cell_type": "markdown",
   "metadata": {},
   "source": [
    "## 5) simple_reference_v3\n"
   ]
  },
  {
   "cell_type": "code",
   "execution_count": 26,
   "metadata": {},
   "outputs": [
    {
     "name": "stdout",
     "output_type": "stream",
     "text": [
      "sr3.action_spaces {'agent_0': Discrete(50), 'agent_1': Discrete(50)}\n",
      "sr3.observation_spaces {'agent_0': Box(-inf, inf, (21,), float32), 'agent_1': Box(-inf, inf, (21,), float32)}\n",
      "sr3 (action_dims, state_dims) ([50, 50], [21, 21])\n"
     ]
    }
   ],
   "source": [
    "from pettingzoo.mpe import simple_reference_v3\n",
    "sr3 = simple_reference_v3.env()\n",
    "print(\"sr3.action_spaces\",sr3.action_spaces)\n",
    "print(\"sr3.observation_spaces\",sr3.observation_spaces)\n",
    "print(\"sr3 (action_dims, state_dims)\",get_action_state_dims(sr3))"
   ]
  },
  {
   "cell_type": "markdown",
   "metadata": {},
   "source": [
    "## 6) simple_speaker_listener_v4\n"
   ]
  },
  {
   "cell_type": "code",
   "execution_count": 28,
   "metadata": {},
   "outputs": [
    {
     "name": "stdout",
     "output_type": "stream",
     "text": [
      "ssl4.action_spaces {'speaker_0': Discrete(3), 'listener_0': Discrete(5)}\n",
      "ssl4.observation_spaces {'speaker_0': Box(-inf, inf, (3,), float32), 'listener_0': Box(-inf, inf, (11,), float32)}\n",
      "ssl4 (action_dims, state_dims) ([3, 5], [3, 11])\n"
     ]
    }
   ],
   "source": [
    "from pettingzoo.mpe import simple_speaker_listener_v4\n",
    "ssl4 = simple_speaker_listener_v4.env()\n",
    "print(\"ssl4.action_spaces\",ssl4.action_spaces)\n",
    "print(\"ssl4.observation_spaces\",ssl4.observation_spaces)\n",
    "print(\"ssl4 (action_dims, state_dims)\",get_action_state_dims(ssl4))"
   ]
  },
  {
   "cell_type": "markdown",
   "metadata": {},
   "source": [
    "## 7) simple_spread_v3\n"
   ]
  },
  {
   "cell_type": "code",
   "execution_count": 30,
   "metadata": {},
   "outputs": [
    {
     "name": "stdout",
     "output_type": "stream",
     "text": [
      "ssp3.action_spaces {'agent_0': Discrete(5), 'agent_1': Discrete(5), 'agent_2': Discrete(5)}\n",
      "ssp3.observation_spaces {'agent_0': Box(-inf, inf, (18,), float32), 'agent_1': Box(-inf, inf, (18,), float32), 'agent_2': Box(-inf, inf, (18,), float32)}\n",
      "ssp3 (action_dims, state_dims) ([5, 5, 5], [18, 18, 18])\n"
     ]
    }
   ],
   "source": [
    "from pettingzoo.mpe import simple_spread_v3\n",
    "ssp3 = simple_spread_v3.env()\n",
    "print(\"ssp3.action_spaces\",ssp3.action_spaces)\n",
    "print(\"ssp3.observation_spaces\",ssp3.observation_spaces)\n",
    "print(\"ssp3 (action_dims, state_dims)\",get_action_state_dims(ssp3))"
   ]
  },
  {
   "cell_type": "markdown",
   "metadata": {},
   "source": [
    "## 8) simple_tag_v3 "
   ]
  },
  {
   "cell_type": "code",
   "execution_count": 32,
   "metadata": {},
   "outputs": [
    {
     "name": "stdout",
     "output_type": "stream",
     "text": [
      "stv3.action_spaces {'adversary_0': Discrete(5), 'adversary_1': Discrete(5), 'adversary_2': Discrete(5), 'agent_0': Discrete(5)}\n",
      "stv3.observation_spaces {'adversary_0': Box(-inf, inf, (16,), float32), 'adversary_1': Box(-inf, inf, (16,), float32), 'adversary_2': Box(-inf, inf, (16,), float32), 'agent_0': Box(-inf, inf, (14,), float32)}\n",
      "stv3 (action_dims, state_dims) ([5, 5, 5, 5], [16, 16, 16, 14])\n"
     ]
    }
   ],
   "source": [
    "from pettingzoo.mpe import simple_tag_v3\n",
    "stv3 = simple_tag_v3.env()\n",
    "print(\"stv3.action_spaces\",stv3.action_spaces)\n",
    "print(\"stv3.observation_spaces\",stv3.observation_spaces)\n",
    "print(\"stv3 (action_dims, state_dims)\",get_action_state_dims(stv3))"
   ]
  },
  {
   "cell_type": "markdown",
   "metadata": {},
   "source": [
    "## 9) simple_world_comm_v3"
   ]
  },
  {
   "cell_type": "code",
   "execution_count": 34,
   "metadata": {},
   "outputs": [
    {
     "name": "stdout",
     "output_type": "stream",
     "text": [
      "swc3.action_spaces {'leadadversary_0': Discrete(20), 'adversary_0': Discrete(5), 'adversary_1': Discrete(5), 'adversary_2': Discrete(5), 'agent_0': Discrete(5), 'agent_1': Discrete(5)}\n",
      "swc3.observation_spaces {'leadadversary_0': Box(-inf, inf, (34,), float32), 'adversary_0': Box(-inf, inf, (34,), float32), 'adversary_1': Box(-inf, inf, (34,), float32), 'adversary_2': Box(-inf, inf, (34,), float32), 'agent_0': Box(-inf, inf, (28,), float32), 'agent_1': Box(-inf, inf, (28,), float32)}\n",
      "swc3 (action_dims, state_dims) ([20, 5, 5, 5, 5, 5], [34, 34, 34, 34, 28, 28])\n"
     ]
    }
   ],
   "source": [
    "from pettingzoo.mpe import simple_world_comm_v3\n",
    "swc3 = simple_world_comm_v3.env()\n",
    "print(\"swc3.action_spaces\",swc3.action_spaces)\n",
    "print(\"swc3.observation_spaces\",swc3.observation_spaces)\n",
    "print(\"swc3 (action_dims, state_dims)\",get_action_state_dims(swc3))"
   ]
  },
  {
   "cell_type": "code",
   "execution_count": null,
   "metadata": {},
   "outputs": [],
   "source": []
  }
 ],
 "metadata": {
  "kernelspec": {
   "display_name": "pettingZoo_Langchain",
   "language": "python",
   "name": "python3"
  },
  "language_info": {
   "codemirror_mode": {
    "name": "ipython",
    "version": 3
   },
   "file_extension": ".py",
   "mimetype": "text/x-python",
   "name": "python",
   "nbconvert_exporter": "python",
   "pygments_lexer": "ipython3",
   "version": "3.9.18"
  }
 },
 "nbformat": 4,
 "nbformat_minor": 2
}
