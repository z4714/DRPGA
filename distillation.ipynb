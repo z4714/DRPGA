{
 "cells": [
  {
   "cell_type": "markdown",
   "metadata": {},
   "source": [
    "# HuggingFaceH4/CodeAlpaca_20K Python split"
   ]
  },
  {
   "cell_type": "code",
   "execution_count": 4,
   "metadata": {},
   "outputs": [],
   "source": [
    "import pyarrow.parquet as pq\n",
    "import pyarrow as pa"
   ]
  },
  {
   "cell_type": "code",
   "execution_count": 2,
   "metadata": {},
   "outputs": [
    {
     "name": "stderr",
     "output_type": "stream",
     "text": [
      "d:\\Disk_D\\programming_software\\AI\\Anaconda3\\envs\\pettingZoo_Langchain\\lib\\site-packages\\tqdm\\auto.py:21: TqdmWarning: IProgress not found. Please update jupyter and ipywidgets. See https://ipywidgets.readthedocs.io/en/stable/user_install.html\n",
      "  from .autonotebook import tqdm as notebook_tqdm\n"
     ]
    }
   ],
   "source": [
    "from datasets import  load_dataset\n",
    "\n",
    "h4ca20k = load_dataset(\"HuggingFaceH4/CodeAlpaca_20K\")"
   ]
  },
  {
   "cell_type": "code",
   "execution_count": 3,
   "metadata": {},
   "outputs": [
    {
     "name": "stdout",
     "output_type": "stream",
     "text": [
      "DatasetDict({\n",
      "    train: Dataset({\n",
      "        features: ['prompt', 'completion'],\n",
      "        num_rows: 18019\n",
      "    })\n",
      "    test: Dataset({\n",
      "        features: ['prompt', 'completion'],\n",
      "        num_rows: 2003\n",
      "    })\n",
      "})\n"
     ]
    }
   ],
   "source": [
    "print(h4ca20k)"
   ]
  },
  {
   "cell_type": "code",
   "execution_count": 11,
   "metadata": {},
   "outputs": [
    {
     "name": "stdout",
     "output_type": "stream",
     "text": [
      "Dataset({\n",
      "    features: ['prompt', 'completion'],\n",
      "    num_rows: 18019\n",
      "})\n"
     ]
    }
   ],
   "source": [
    "print(h4ca20k[\"train\"])"
   ]
  },
  {
   "cell_type": "code",
   "execution_count": 14,
   "metadata": {},
   "outputs": [],
   "source": [
    "from datasets import Dataset, DatasetDict, concatenate_datasets"
   ]
  },
  {
   "cell_type": "code",
   "execution_count": 40,
   "metadata": {},
   "outputs": [],
   "source": [
    "from datasets import Features, Value"
   ]
  },
  {
   "cell_type": "code",
   "execution_count": 39,
   "metadata": {},
   "outputs": [],
   "source": [
    "from zhipuai import ZhipuAI\n",
    "client = ZhipuAI(api_key=\"2200140b76abf3930bc2824cbbaf1310.NeYsf05Dfo7R1z3Y\") "
   ]
  },
  {
   "cell_type": "code",
   "execution_count": 23,
   "metadata": {},
   "outputs": [],
   "source": [
    "def is_py(prompts):\n",
    "    py_dataset = Dataset.from_dict({})\n",
    "    for i in prompts:\n",
    "\n",
    "        response = client.chat.completions.create(\n",
    "            model=\"glm-4\", \n",
    "    \n",
    "            messages=[\n",
    "\n",
    "\n",
    "                {\"role\": \"system\", \"content\": \"你需要判断用户接下来提供的内容是否和python有关。有关请回答1,无关请回答0\"},\n",
    "                {\"role\": \"user\", \"content\": i[\"prompt\"]},\n",
    "                \n",
    "        \n",
    "            ],\n",
    "        )\n",
    "\n",
    "        if(response.choices[0].message.content == \"1\"):\n",
    "            py_dataset.add_item(i)\n",
    "\n",
    "    return py_dataset\n"
   ]
  },
  {
   "cell_type": "code",
   "execution_count": 26,
   "metadata": {},
   "outputs": [],
   "source": [
    "prompts  = h4ca20k[\"test\"]"
   ]
  },
  {
   "cell_type": "code",
   "execution_count": 56,
   "metadata": {},
   "outputs": [],
   "source": [
    "\n",
    "features = Features({\n",
    "    'prompt': Value('string'),\n",
    "    'completion': Value('string')\n",
    "})\n",
    "\n",
    "\n",
    "py_dataset = Dataset.from_dict({'prompt':[], 'completion':[]},features=features)"
   ]
  },
  {
   "cell_type": "code",
   "execution_count": 57,
   "metadata": {},
   "outputs": [
    {
     "name": "stdout",
     "output_type": "stream",
     "text": [
      "1\n",
      "2\n",
      "3\n",
      "4\n",
      "5\n",
      "6\n",
      "7\n",
      "8\n",
      "9\n",
      "10\n",
      "11\n",
      "12\n",
      "13\n",
      "14\n",
      "15\n",
      "16\n",
      "17\n",
      "18\n",
      "19\n",
      "20\n",
      "21\n",
      "22\n",
      "23\n",
      "24\n",
      "25\n",
      "26\n",
      "27\n"
     ]
    }
   ],
   "source": [
    "\n",
    "cot = 0\n",
    "for i in prompts:\n",
    "\n",
    "    response = client.chat.completions.create(\n",
    "        model=\"glm-4\", \n",
    "    \n",
    "        messages=[\n",
    "\n",
    "\n",
    "            {\"role\": \"system\", \"content\": \"你需要判断用户接下来提供的内容是否和python有关。有关请回答1,无关请回答0\"},\n",
    "            {\"role\": \"user\", \"content\": i[\"prompt\"]},\n",
    "                \n",
    "        \n",
    "        ],\n",
    "    )\n",
    "\n",
    "    if(response.choices[0].message.content == \"1\"):\n",
    "        \n",
    "        cot = cot+1\n",
    "        print(cot)\n",
    "\n",
    "        py_dataset = concatenate_datasets([py_dataset,Dataset.from_dict({'prompt':[i['prompt']],'completion':[i['completion']]})])\n",
    "    \n",
    "    "
   ]
  },
  {
   "cell_type": "code",
   "execution_count": 54,
   "metadata": {},
   "outputs": [],
   "source": [
    "py_test = py_dataset"
   ]
  },
  {
   "cell_type": "code",
   "execution_count": 55,
   "metadata": {},
   "outputs": [
    {
     "name": "stdout",
     "output_type": "stream",
     "text": [
      "Dataset({\n",
      "    features: ['prompt', 'completion'],\n",
      "    num_rows: 1\n",
      "})\n"
     ]
    }
   ],
   "source": [
    "print(py_dataset)"
   ]
  },
  {
   "cell_type": "code",
   "execution_count": null,
   "metadata": {},
   "outputs": [],
   "source": []
  },
  {
   "cell_type": "code",
   "execution_count": null,
   "metadata": {},
   "outputs": [],
   "source": [
    "def filter_entries(example):\n",
    "    if is_python_related(example['prompt']):\n",
    "        return example\n",
    "\n",
    "filtered_dataset = dataset.map(filter_entries, batched=True)\n"
   ]
  },
  {
   "cell_type": "code",
   "execution_count": null,
   "metadata": {},
   "outputs": [],
   "source": [
    "import pyarrow as pa\n",
    "import pyarrow.parquet as pq\n",
    "\n",
    "# Convert the filtered dataset to a PyArrow Table\n",
    "table = pa.Table.from_pandas(filtered_dataset.to_pandas())\n",
    "\n",
    "# Save the table to a Parquet file\n",
    "pq.write_table(table, 'filtered_dataset.parquet')\n"
   ]
  },
  {
   "cell_type": "code",
   "execution_count": null,
   "metadata": {},
   "outputs": [],
   "source": [
    "\n"
   ]
  }
 ],
 "metadata": {
  "kernelspec": {
   "display_name": "Python 3.9.18 ('pettingZoo_Langchain')",
   "language": "python",
   "name": "python3"
  },
  "language_info": {
   "codemirror_mode": {
    "name": "ipython",
    "version": 3
   },
   "file_extension": ".py",
   "mimetype": "text/x-python",
   "name": "python",
   "nbconvert_exporter": "python",
   "pygments_lexer": "ipython3",
   "version": "3.9.18"
  },
  "orig_nbformat": 4,
  "vscode": {
   "interpreter": {
    "hash": "afdf63005a8e15303df45d0cecdfecb72eda57fa0cd442cd104881763b83185d"
   }
  }
 },
 "nbformat": 4,
 "nbformat_minor": 2
}
